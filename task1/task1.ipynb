{
 "cells": [
  {
   "cell_type": "code",
   "execution_count": 1,
   "metadata": {},
   "outputs": [],
   "source": [
    "import pandas as pd\n",
    "import numpy as np\n",
    "import matplotlib.pyplot as plt\n",
    "import seaborn as sns\n",
    "from scipy import stats\n",
    "import pandas as pd\n",
    "import glob"
   ]
  },
  {
   "cell_type": "code",
   "execution_count": 2,
   "metadata": {},
   "outputs": [],
   "source": [
    "files = glob.glob(\"C:/Users/dilip/Untitled Folder 4/datasets/*.csv\")\n",
    "\n",
    "combined_data = pd.concat([pd.read_csv(file) for file in files], ignore_index=True)"
   ]
  },
  {
   "cell_type": "code",
   "execution_count": 3,
   "metadata": {},
   "outputs": [
    {
     "name": "stdout",
     "output_type": "stream",
     "text": [
      "-------------------------------------------\n",
      "  Order ID                     Product Quantity Ordered Price Each  \\\n",
      "0   176558        USB-C Charging Cable                2      11.95   \n",
      "1      NaN                         NaN              NaN        NaN   \n",
      "2   176559  Bose SoundSport Headphones                1      99.99   \n",
      "3   176560                Google Phone                1        600   \n",
      "4   176560            Wired Headphones                1      11.99   \n",
      "\n",
      "       Order Date                      Purchase Address  \n",
      "0  04/19/19 08:46          917 1st St, Dallas, TX 75001  \n",
      "1             NaN                                   NaN  \n",
      "2  04/07/19 22:30     682 Chestnut St, Boston, MA 02215  \n",
      "3  04/12/19 14:38  669 Spruce St, Los Angeles, CA 90001  \n",
      "4  04/12/19 14:38  669 Spruce St, Los Angeles, CA 90001  \n",
      "-------------------------------------------\n",
      "<class 'pandas.core.frame.DataFrame'>\n",
      "RangeIndex: 186850 entries, 0 to 186849\n",
      "Data columns (total 6 columns):\n",
      " #   Column            Non-Null Count   Dtype \n",
      "---  ------            --------------   ----- \n",
      " 0   Order ID          186305 non-null  object\n",
      " 1   Product           186305 non-null  object\n",
      " 2   Quantity Ordered  186305 non-null  object\n",
      " 3   Price Each        186305 non-null  object\n",
      " 4   Order Date        186305 non-null  object\n",
      " 5   Purchase Address  186305 non-null  object\n",
      "dtypes: object(6)\n",
      "memory usage: 8.6+ MB\n",
      "None\n",
      "-------------------------------------------\n",
      "        Order ID               Product Quantity Ordered Price Each  \\\n",
      "count     186305                186305           186305     186305   \n",
      "unique    178438                    20               10         24   \n",
      "top     Order ID  USB-C Charging Cable                1      11.95   \n",
      "freq         355                 21903           168552      21903   \n",
      "\n",
      "        Order Date  Purchase Address  \n",
      "count       186305            186305  \n",
      "unique      142396            140788  \n",
      "top     Order Date  Purchase Address  \n",
      "freq           355               355  \n",
      "-------------------------------------------\n",
      "Order ID            545\n",
      "Product             545\n",
      "Quantity Ordered    545\n",
      "Price Each          545\n",
      "Order Date          545\n",
      "Purchase Address    545\n",
      "dtype: int64\n"
     ]
    }
   ],
   "source": [
    "print(\"-------------------------------------------\")\n",
    "# Display the first few rows of the dataset\n",
    "print(combined_data.head())\n",
    "print(\"-------------------------------------------\")\n",
    "# Get information about the dataset\n",
    "print(combined_data.info())\n",
    "print(\"-------------------------------------------\")\n",
    "# Summary statistics\n",
    "print(combined_data.describe())\n",
    "print(\"-------------------------------------------\")\n",
    "# Check for missing values\n",
    "print(combined_data.isnull().sum())"
   ]
  },
  {
   "cell_type": "code",
   "execution_count": 4,
   "metadata": {},
   "outputs": [],
   "source": [
    "# Handle missing values\n",
    "combined_data.dropna(inplace=True)\n",
    "\n",
    "# Remove duplicates\n",
    "combined_data.drop_duplicates(inplace=True)"
   ]
  },
  {
   "cell_type": "code",
   "execution_count": 5,
   "metadata": {},
   "outputs": [],
   "source": [
    "combined_data['Order Date'] = pd.to_datetime(combined_data['Order Date'], errors='coerce')"
   ]
  },
  {
   "cell_type": "code",
   "execution_count": 6,
   "metadata": {},
   "outputs": [],
   "source": [
    "# Extract year, month, and day from 'Order Date'\n",
    "combined_data['Order Year'] = combined_data['Order Date'].dt.year\n",
    "combined_data['Order Month'] = combined_data['Order Date'].dt.month\n",
    "combined_data['Order Day'] = combined_data['Order Date'].dt.day"
   ]
  },
  {
   "cell_type": "code",
   "execution_count": 7,
   "metadata": {},
   "outputs": [
    {
     "name": "stdout",
     "output_type": "stream",
     "text": [
      "0    11.95\n",
      "2    99.99\n",
      "3      600\n",
      "4    11.99\n",
      "5    11.99\n",
      "Name: Price Each, dtype: object\n"
     ]
    }
   ],
   "source": [
    "print(combined_data['Price Each'].head())"
   ]
  },
  {
   "cell_type": "code",
   "execution_count": 8,
   "metadata": {},
   "outputs": [],
   "source": [
    "combined_data = combined_data.dropna(subset=['Price Each'])\n",
    "\n",
    "combined_data['Price Each'] = pd.to_numeric(combined_data['Price Each'], errors='coerce')\n"
   ]
  },
  {
   "cell_type": "markdown",
   "metadata": {},
   "source": [
    "# Histogram"
   ]
  },
  {
   "cell_type": "code",
   "execution_count": 10,
   "metadata": {},
   "outputs": [
    {
     "data": {
      "image/png": "[encoded data removed]",
      "text/plain": [
       "<Figure size 720x432 with 1 Axes>"
      ]
     },
     "metadata": {
      "needs_background": "light"
     },
     "output_type": "display_data"
    }
   ],
   "source": [
    "plt.figure(figsize=(10, 6))\n",
    "sns.histplot(data=combined_data, x='Price Each', bins=20, kde=True)\n",
    "plt.xlabel('Price Each')\n",
    "plt.ylabel('Frequency')\n",
    "plt.title('Distribution of Price Each')\n",
    "plt.show()\n"
   ]
  },
  {
   "cell_type": "markdown",
   "metadata": {},
   "source": [
    "# Box Plot"
   ]
  },
  {
   "cell_type": "code",
   "execution_count": 11,
   "metadata": {},
   "outputs": [
    {
     "data": {
      "image/png": "[encoded data removed]",
      "text/plain": [
       "<Figure size 720x432 with 1 Axes>"
      ]
     },
     "metadata": {
      "needs_background": "light"
     },
     "output_type": "display_data"
    }
   ],
   "source": [
    "plt.figure(figsize=(10, 6))\n",
    "sns.boxplot(data=combined_data, x='Price Each')\n",
    "plt.xlabel('Price Each')\n",
    "plt.title('Box Plot of Price Each')\n",
    "plt.show()"
   ]
  },
  {
   "cell_type": "markdown",
   "metadata": {},
   "source": [
    "# Scatter plot"
   ]
  },
  {
   "cell_type": "code",
   "execution_count": 20,
   "metadata": {},
   "outputs": [
    {
     "data": {
      "image/png": "[encoded data removed]",
      "text/plain": [
       "<Figure size 720x432 with 1 Axes>"
      ]
     },
     "metadata": {
      "needs_background": "light"
     },
     "output_type": "display_data"
    }
   ],
   "source": [
    "plt.figure(figsize=(10, 6))\n",
    "plt.scatter(combined_data['Quantity Ordered'], combined_data['Price Each'], alpha=0.5)\n",
    "plt.xlabel('Quantity Ordered')\n",
    "plt.ylabel('Price Each')\n",
    "plt.title('Scatter Plot: Quantity Ordered vs. Price Each')\n",
    "plt.grid(True)\n",
    "plt.show()"
   ]
  },
  {
   "cell_type": "markdown",
   "metadata": {},
   "source": [
    "# Z-score"
   ]
  },
  {
   "cell_type": "code",
   "execution_count": 28,
   "metadata": {},
   "outputs": [
    {
     "name": "stdout",
     "output_type": "stream",
     "text": [
      "Empty DataFrame\n",
      "Columns: [Order ID, Product, Quantity Ordered, Price Each, Order Date, Purchase Address, Order Year, Order Month, Order Day, Z-score, Z-score_Quantity, Z-score_Price]\n",
      "Index: []\n",
      "<bound method NDFrame.head of 0        NaN\n",
      "2        NaN\n",
      "3        NaN\n",
      "4        NaN\n",
      "5        NaN\n",
      "          ..\n",
      "186845   NaN\n",
      "186846   NaN\n",
      "186847   NaN\n",
      "186848   NaN\n",
      "186849   NaN\n",
      "Name: Z-score_Quantity, Length: 185687, dtype: float64>\n",
      "<bound method NDFrame.head of 0        NaN\n",
      "2        NaN\n",
      "3        NaN\n",
      "4        NaN\n",
      "5        NaN\n",
      "          ..\n",
      "186845   NaN\n",
      "186846   NaN\n",
      "186847   NaN\n",
      "186848   NaN\n",
      "186849   NaN\n",
      "Name: Z-score_Price, Length: 185687, dtype: float64>\n"
     ]
    },
    {
     "name": "stderr",
     "output_type": "stream",
     "text": [
      "C:\\Users\\dilip\\anaconda3\\lib\\site-packages\\ipykernel_launcher.py:4: RuntimeWarning: invalid value encountered in greater\n",
      "  after removing the cwd from sys.path.\n",
      "C:\\Users\\dilip\\anaconda3\\lib\\site-packages\\ipykernel_launcher.py:4: RuntimeWarning: invalid value encountered in less\n",
      "  after removing the cwd from sys.path.\n"
     ]
    }
   ],
   "source": [
    "z_scores = stats.zscore(combined_data['Price Each'])\n",
    "combined_data['Z-score'] = z_scores\n",
    "\n",
    "outliers = combined_data[(z_scores > 3) | (z_scores < -3)]\n",
    "print(outliers)\n",
    "\n",
    "\n",
    "\n",
    "combined_data['Quantity Ordered'] = pd.to_numeric(combined_data['Quantity Ordered'], errors='coerce')\n",
    "combined_data['Price Each'] = pd.to_numeric(combined_data['Price Each'], errors='coerce')\n",
    "from scipy import stats\n",
    "\n",
    "combined_data['Z-score_Quantity'] = stats.zscore(combined_data['Quantity Ordered'])\n",
    "combined_data['Z-score_Price'] = stats.zscore(combined_data['Price Each'])\n",
    "print(combined_data['Z-score_Quantity'].head)\n",
    "print(combined_data['Z-score_Price'].head)\n",
    "\n"
   ]
  },
  {
   "cell_type": "markdown",
   "metadata": {},
   "source": [
    "# IQR "
   ]
  },
  {
   "cell_type": "code",
   "execution_count": 14,
   "metadata": {},
   "outputs": [
    {
     "name": "stdout",
     "output_type": "stream",
     "text": [
      "       Order ID                 Product Quantity Ordered  Price Each  \\\n",
      "3        176560            Google Phone                1      600.00   \n",
      "9        176565      Macbook Pro Laptop                1     1700.00   \n",
      "11       176567            Google Phone                1      600.00   \n",
      "13       176569  27in 4K Gaming Monitor                1      389.99   \n",
      "18       176574            Google Phone                1      600.00   \n",
      "...         ...                     ...              ...         ...   \n",
      "186836   259345         ThinkPad Laptop                1      999.99   \n",
      "186841   259350            Google Phone                1      600.00   \n",
      "186846   259354                  iPhone                1      700.00   \n",
      "186847   259355                  iPhone                1      700.00   \n",
      "186848   259356  34in Ultrawide Monitor                1      379.99   \n",
      "\n",
      "                Order Date                         Purchase Address  \\\n",
      "3      2019-04-12 14:38:00     669 Spruce St, Los Angeles, CA 90001   \n",
      "9      2019-04-24 10:38:00   915 Willow St, San Francisco, CA 94016   \n",
      "11     2019-04-18 17:18:00        444 7th St, Los Angeles, CA 90001   \n",
      "13     2019-04-16 19:23:00            657 Hill St, Dallas, TX 75001   \n",
      "18     2019-04-03 19:42:00        20 Hill St, Los Angeles, CA 90001   \n",
      "...                    ...                                      ...   \n",
      "186836 2019-09-21 23:12:00  406 Dogwood St, San Francisco, CA 94016   \n",
      "186841 2019-09-30 13:49:00    519 Maple St, San Francisco, CA 94016   \n",
      "186846 2019-09-01 16:00:00  216 Dogwood St, San Francisco, CA 94016   \n",
      "186847 2019-09-23 07:39:00     220 12th St, San Francisco, CA 94016   \n",
      "186848 2019-09-19 17:30:00   511 Forest St, San Francisco, CA 94016   \n",
      "\n",
      "        Order Year  Order Month  Order Day  Z-score  \n",
      "3           2019.0          4.0       12.0      NaN  \n",
      "9           2019.0          4.0       24.0      NaN  \n",
      "11          2019.0          4.0       18.0      NaN  \n",
      "13          2019.0          4.0       16.0      NaN  \n",
      "18          2019.0          4.0        3.0      NaN  \n",
      "...            ...          ...        ...      ...  \n",
      "186836      2019.0          9.0       21.0      NaN  \n",
      "186841      2019.0          9.0       30.0      NaN  \n",
      "186846      2019.0          9.0        1.0      NaN  \n",
      "186847      2019.0          9.0       23.0      NaN  \n",
      "186848      2019.0          9.0       19.0      NaN  \n",
      "\n",
      "[36985 rows x 10 columns]\n"
     ]
    }
   ],
   "source": [
    "Q1 = combined_data['Price Each'].quantile(0.25)\n",
    "Q3 = combined_data['Price Each'].quantile(0.75)\n",
    "IQR = Q3 - Q1\n",
    "\n",
    "lower_bound = Q1 - 1.5 * IQR\n",
    "upper_bound = Q3 + 1.5 * IQR\n",
    "\n",
    "outliers_iqr = combined_data[(combined_data['Price Each'] < lower_bound) | (combined_data['Price Each'] > upper_bound)]\n",
    "print(outliers_iqr)"
   ]
  },
  {
   "cell_type": "markdown",
   "metadata": {},
   "source": [
    "# Heat Maps"
   ]
  },
  {
   "cell_type": "code",
   "execution_count": 15,
   "metadata": {},
   "outputs": [
    {
     "data": {
      "image/png": "[encoded data removed]",
      "text/plain": [
       "<Figure size 720x432 with 2 Axes>"
      ]
     },
     "metadata": {
      "needs_background": "light"
     },
     "output_type": "display_data"
    }
   ],
   "source": [
    "correlation_matrix = combined_data.corr()\n",
    "plt.figure(figsize=(10, 6))\n",
    "sns.heatmap(correlation_matrix, annot=True, cmap='coolwarm', linewidths=0.5)\n",
    "plt.title('Correlation Heatmap')\n",
    "plt.show()\n"
   ]
  },
  {
   "cell_type": "code",
   "execution_count": 16,
   "metadata": {},
   "outputs": [],
   "source": [
    "combined_data.to_csv(\"cleaned_combined_data.csv\", index=False)"
   ]
  },
  {
   "cell_type": "code",
   "execution_count": null,
   "metadata": {},
   "outputs": [],
   "source": []
  }
 ],
 "metadata": {
  "kernelspec": {
   "display_name": "Python 3",
   "language": "python",
   "name": "python3"
  },
  "language_info": {
   "codemirror_mode": {
    "name": "ipython",
    "version": 3
   },
   "file_extension": ".py",
   "mimetype": "text/x-python",
   "name": "python",
   "nbconvert_exporter": "python",
   "pygments_lexer": "ipython3",
   "version": "3.7.6"
  }
 },
 "nbformat": 4,
 "nbformat_minor": 4
}
